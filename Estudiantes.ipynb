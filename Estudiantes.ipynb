{
 "cells": [
  {
   "cell_type": "code",
   "execution_count": null,
   "metadata": {},
   "outputs": [],
   "source": [
    "import pandas as pd"
   ]
  },
  {
   "cell_type": "code",
   "execution_count": 2,
   "metadata": {},
   "outputs": [
    {
     "name": "stdout",
     "output_type": "stream",
     "text": [
      "        NOMBRE  EDAD GENERO                 CARRERA SEMESTRE\n",
      "0       Victor    23      M          Diseño Grafico  Segundo\n",
      "1       Josefa    15      F  Desarrollo de software  Primero\n",
      "2         Raul    30      M          Diseño Grafico  Tercero\n",
      "3      Nayrobi    20      F              Enfermeria  Primero\n",
      "4    Anastasia    40      F             Gastronomia  Segundo\n",
      "..         ...   ...    ...                     ...      ...\n",
      "139       José    19      M          Trabajo Social  Primero\n",
      "140       Juan    21      M           Audiovisuales  Primero\n",
      "141      Sofia    33      F        Ingeniería Civil  Segundo\n",
      "142      Karla    27      F              Psicología  Primero\n",
      "143    Ricardo    35      M           Audiovisuales   Cuarto\n",
      "\n",
      "[144 rows x 5 columns]\n"
     ]
    }
   ],
   "source": [
    "estudiantes = pd.read_csv(\"estudiantes.csv\")\n",
    "print(estudiantes)"
   ]
  },
  {
   "cell_type": "code",
   "execution_count": 3,
   "metadata": {},
   "outputs": [
    {
     "name": "stdout",
     "output_type": "stream",
     "text": [
      "<class 'pandas.core.frame.DataFrame'>\n",
      "RangeIndex: 144 entries, 0 to 143\n",
      "Data columns (total 5 columns):\n",
      " #   Column    Non-Null Count  Dtype \n",
      "---  ------    --------------  ----- \n",
      " 0   NOMBRE    144 non-null    object\n",
      " 1   EDAD      144 non-null    int64 \n",
      " 2   GENERO    144 non-null    object\n",
      " 3   CARRERA   144 non-null    object\n",
      " 4   SEMESTRE  144 non-null    object\n",
      "dtypes: int64(1), object(4)\n",
      "memory usage: 5.8+ KB\n"
     ]
    }
   ],
   "source": [
    "estudiantes.info()"
   ]
  }
 ],
 "metadata": {
  "kernelspec": {
   "display_name": "modules",
   "language": "python",
   "name": "python3"
  },
  "language_info": {
   "codemirror_mode": {
    "name": "ipython",
    "version": 3
   },
   "file_extension": ".py",
   "mimetype": "text/x-python",
   "name": "python",
   "nbconvert_exporter": "python",
   "pygments_lexer": "ipython3",
   "version": "3.12.1"
  }
 },
 "nbformat": 4,
 "nbformat_minor": 2
}
